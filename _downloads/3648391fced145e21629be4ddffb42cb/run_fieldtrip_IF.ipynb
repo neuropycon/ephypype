{
  "cells": [
    {
      "cell_type": "code",
      "execution_count": null,
      "metadata": {
        "collapsed": false
      },
      "outputs": [],
      "source": [
        "%matplotlib inline"
      ]
    },
    {
      "cell_type": "markdown",
      "metadata": {},
      "source": [
        "\n\n# Apply bipolar montage to depth electrodes\nThis scripts shows a very simple example on how to create an Interface wrapping\na desired function of a Matlab toolbox (|FieldTrip|).\n\n.. |FieldTrip| raw:: html\n\n    <a href=\"http://www.fieldtriptoolbox.org/\" target=\"_blank\">FieldTrip</a>\n\nThe **input** data should be a **.mat** file containing a FieldTrip data struct\n"
      ]
    },
    {
      "cell_type": "code",
      "execution_count": null,
      "metadata": {
        "collapsed": false
      },
      "outputs": [],
      "source": [
        "# Authors: Annalisa Pascarella <a.pascarella@iac.cnr.it>\n# License: BSD (3-clause)\n\nimport os.path as op\n\nimport ephypype\nfrom ephypype.nodes.FT_tools import Reference\nfrom ephypype.datasets import fetch_ieeg_dataset"
      ]
    },
    {
      "cell_type": "markdown",
      "metadata": {},
      "source": [
        "Let us fetch the data first. It is around 675 MB download.\n\n"
      ]
    },
    {
      "cell_type": "code",
      "execution_count": null,
      "metadata": {
        "collapsed": false
      },
      "outputs": [],
      "source": [
        "base_path = op.join(op.dirname(ephypype.__file__), '..', 'examples')\ndata_path = fetch_ieeg_dataset(base_path)\n\nimport json  # noqa\nimport pprint  # noqa\nparams = json.load(open(\"params.json\"))\npprint.pprint({'time frequency parameters': params[\"tfr\"]})\nft_path = params[\"tfr\"]['fieldtrip_path']\nrefmethod = params[\"tfr\"]['refmethod']\nchannels_name = params[\"tfr\"]['channels_name']\n\n# channels_name = '{\\'RAM*\\', \\'RHH*\\', \\'RTH*\\', \\'ROC*\\', \\'LAM*\\',\\'LHH*\\', \\'LTH*\\'}'  # noqa\n\n# Now we call the interface Reference to apply a bipolar montage to sEEG data\nreference_if = Reference()\nreference_if.inputs.data_file = op.join(data_path, 'SubjectUCI29_data.mat')\nreference_if.inputs.channels = channels_name\nreference_if.inputs.ft_path = ft_path\nreference_if.inputs.refmethod = refmethod\nreference_if.inputs.script = ''\n\nout = reference_if.run()\n\nprint('Rereferenced data saved at {}'.format(out.outputs.data_output))"
      ]
    }
  ],
  "metadata": {
    "kernelspec": {
      "display_name": "Python 3",
      "language": "python",
      "name": "python3"
    },
    "language_info": {
      "codemirror_mode": {
        "name": "ipython",
        "version": 3
      },
      "file_extension": ".py",
      "mimetype": "text/x-python",
      "name": "python",
      "nbconvert_exporter": "python",
      "pygments_lexer": "ipython3",
      "version": "3.10.8"
    }
  },
  "nbformat": 4,
  "nbformat_minor": 0
}