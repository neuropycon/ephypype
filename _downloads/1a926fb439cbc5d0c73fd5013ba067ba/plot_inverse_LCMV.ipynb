{
  "cells": [
    {
      "cell_type": "code",
      "execution_count": null,
      "metadata": {
        "collapsed": false
      },
      "outputs": [],
      "source": [
        "%matplotlib inline"
      ]
    },
    {
      "cell_type": "markdown",
      "metadata": {},
      "source": [
        "\n\n# Compute LCMV inverse solution\nThe inverse solution pipeline performs source reconstruction starting either\nfrom raw/epoched data (*.fif* format) specified by the user or from the output\nof the Preprocessing pipeline (cleaned raw data).\n"
      ]
    },
    {
      "cell_type": "code",
      "execution_count": null,
      "metadata": {
        "collapsed": false
      },
      "outputs": [],
      "source": [
        "# Authors: Annalisa Pascarella <a.pascarella@iac.cnr.it>\n# License: BSD (3-clause)\n\n# sphinx_gallery_thumbnail_number = 2\n\nimport os.path as op\nimport numpy as np\nimport nipype.pipeline.engine as pe\nimport nipype.interfaces.io as nio\n\nimport ephypype\nfrom ephypype.nodes import create_iterator\nfrom ephypype.datasets import fetch_omega_dataset"
      ]
    },
    {
      "cell_type": "markdown",
      "metadata": {},
      "source": [
        "Let us fetch the data first. It is around 675 MB download.\n\n"
      ]
    },
    {
      "cell_type": "code",
      "execution_count": null,
      "metadata": {
        "collapsed": false
      },
      "outputs": [],
      "source": [
        "data_type = 'fif'\nbase_path = op.join(op.dirname(ephypype.__file__), '..', 'examples')\ndata_path = fetch_omega_dataset(base_path)"
      ]
    },
    {
      "cell_type": "markdown",
      "metadata": {},
      "source": [
        "then read the parameters for experiment and inverse problem from a\n:download:`json <https://github.com/neuropycon/ephypype/tree/master/examples/params.json>`\nfile and print it\n\n"
      ]
    },
    {
      "cell_type": "code",
      "execution_count": null,
      "metadata": {
        "collapsed": false
      },
      "outputs": [],
      "source": [
        "import json  # noqa\nimport pprint  # noqa\nparams = json.load(open(\"params.json\"))\n\npprint.pprint({'experiment parameters': params[\"general\"]})\nsubject_ids = params[\"general\"][\"subject_ids\"]  # sub-003\nsession_ids = params[\"general\"][\"session_ids\"]  # ses-0001\nNJOBS = params[\"general\"][\"NJOBS\"]\n\npprint.pprint({'inverse parameters': params[\"inverse\"]})\nspacing = params[\"inverse\"]['spacing']  # ico-5 vs oct-6\nsnr = params[\"inverse\"]['snr']  # use smaller SNR for raw data\ninv_method = params[\"inverse\"]['method']  # sLORETA, MNE, dSPM, LCMV\nparc = params[\"inverse\"]['parcellation']  # parcellation to use: 'aparc' vs 'aparc.a2009s'  # noqa\n# noise covariance matrix filename template\nnoise_cov_fname = params[\"inverse\"]['noise_cov_fname']\n\n# set sbj dir path, i.e. where the FS folfers are\nsubjects_dir = op.join(data_path, params[\"general\"][\"subjects_dir\"])"
      ]
    },
    {
      "cell_type": "markdown",
      "metadata": {},
      "source": [
        "Then, we create our workflow and specify the `base_dir` which tells\nnipype the directory in which to store the outputs.\n\n"
      ]
    },
    {
      "cell_type": "code",
      "execution_count": null,
      "metadata": {
        "collapsed": false
      },
      "outputs": [],
      "source": [
        "# workflow directory within the `base_dir`\nsrc_reconstruction_pipeline_name = 'source_reconstruction_' + \\\n    inv_method + '_' + parc.replace('.', '')\n\nmain_workflow = pe.Workflow(name=src_reconstruction_pipeline_name)\nmain_workflow.base_dir = data_path"
      ]
    },
    {
      "cell_type": "markdown",
      "metadata": {},
      "source": [
        "Then we create a node to pass input filenames to DataGrabber from nipype\n\n"
      ]
    },
    {
      "cell_type": "code",
      "execution_count": null,
      "metadata": {
        "collapsed": false
      },
      "outputs": [],
      "source": [
        "infosource = create_iterator(['subject_id', 'session_id'],\n                             [subject_ids, session_ids])"
      ]
    },
    {
      "cell_type": "markdown",
      "metadata": {},
      "source": [
        "and a node to grab data. The template_args in this node iterate upon\nthe values in the infosource node\n\n"
      ]
    },
    {
      "cell_type": "code",
      "execution_count": null,
      "metadata": {
        "collapsed": false
      },
      "outputs": [],
      "source": [
        "datasource = pe.Node(interface=nio.DataGrabber(infields=['subject_id'],\n                                               outfields=['raw_file', 'trans_file']),  # noqa\n                     name='datasource')\n\ndatasource.inputs.base_directory = data_path\ndatasource.inputs.template = '*%s/%s/meg/%s*rest*%s.fif'\n\ndatasource.inputs.template_args = dict(\n        raw_file=[['subject_id', 'session_id', 'subject_id', '0_30*ica']],\n        trans_file=[['subject_id', 'session_id', 'subject_id', \"-trans\"]])\n\ndatasource.inputs.sort_filelist = True"
      ]
    },
    {
      "cell_type": "markdown",
      "metadata": {},
      "source": [
        "Ephypype creates for us a pipeline which can be connected to these\nnodes we created. The inverse solution pipeline is implemented by the\nfunction\n:func:`ephypype.pipelines.preproc_meeg.create_pipeline_source_reconstruction`\nthus to instantiate the inverse pipeline node, we import it and pass our\nparameters to it.\nThe inverse pipeline contains three nodes that wrap the MNE Python functions\nthat perform the source reconstruction steps.\n\nIn particular, the three nodes are:\n\n* :class:`ephypype.interfaces.mne.LF_computation.LFComputation` compute the\n  Lead Field matrix\n* :class:`ephypype.interfaces.mne.Inverse_solution.NoiseCovariance` computes\n  the noise covariance matrix\n* :class:`ephypype.interfaces.mne.Inverse_solution.InverseSolution` estimates\n  the time series of the neural sources on a set of dipoles grid\n\n"
      ]
    },
    {
      "cell_type": "code",
      "execution_count": null,
      "metadata": {
        "collapsed": false
      },
      "outputs": [],
      "source": [
        "from ephypype.pipelines import create_pipeline_source_reconstruction  # noqa\ninv_sol_workflow = create_pipeline_source_reconstruction(\n    data_path, subjects_dir, spacing=spacing, inv_method=inv_method, parc=parc,\n    noise_cov_fname=noise_cov_fname)"
      ]
    },
    {
      "cell_type": "markdown",
      "metadata": {},
      "source": [
        "We then connect the nodes two at a time. First, we connect the two outputs\n(subject_id and session_id) of the infosource node to the datasource node.\nSo, these two nodes taken together can grab data.\n\n"
      ]
    },
    {
      "cell_type": "code",
      "execution_count": null,
      "metadata": {
        "collapsed": false
      },
      "outputs": [],
      "source": [
        "main_workflow.connect(infosource, 'subject_id', datasource, 'subject_id')\nmain_workflow.connect(infosource, 'session_id', datasource, 'session_id')"
      ]
    },
    {
      "cell_type": "markdown",
      "metadata": {},
      "source": [
        "Similarly, for the inputnode of the preproc_workflow. Things will become\nclearer in a moment when we plot the graph of the workflow.\n\n"
      ]
    },
    {
      "cell_type": "code",
      "execution_count": null,
      "metadata": {
        "collapsed": false
      },
      "outputs": [],
      "source": [
        "main_workflow.connect(infosource, 'subject_id',\n                      inv_sol_workflow, 'inputnode.sbj_id')\nmain_workflow.connect(datasource, 'raw_file',\n                      inv_sol_workflow, 'inputnode.raw')\nmain_workflow.connect(datasource, 'trans_file',\n                      inv_sol_workflow, 'inputnode.trans_file')"
      ]
    },
    {
      "cell_type": "markdown",
      "metadata": {},
      "source": [
        "To do so, we first write the workflow graph (optional)\n\n"
      ]
    },
    {
      "cell_type": "code",
      "execution_count": null,
      "metadata": {
        "collapsed": false
      },
      "outputs": [],
      "source": [
        "main_workflow.write_graph(graph2use='colored')  # colored"
      ]
    },
    {
      "cell_type": "markdown",
      "metadata": {},
      "source": [
        "and visualize it. Take a moment to pause and notice how the connections\nhere correspond to how we connected the nodes.\n\n"
      ]
    },
    {
      "cell_type": "code",
      "execution_count": null,
      "metadata": {
        "collapsed": false
      },
      "outputs": [],
      "source": [
        "import matplotlib.pyplot as plt  # noqa\nimg = plt.imread(op.join(data_path, src_reconstruction_pipeline_name, 'graph.png'))  # noqa\nplt.figure(figsize=(8, 8))\nplt.imshow(img)\nplt.axis('off')"
      ]
    },
    {
      "cell_type": "markdown",
      "metadata": {},
      "source": [
        "Finally, we are now ready to execute our workflow.\n\n"
      ]
    },
    {
      "cell_type": "code",
      "execution_count": null,
      "metadata": {
        "collapsed": false
      },
      "outputs": [],
      "source": [
        "main_workflow.config['execution'] = {'remove_unnecessary_outputs': 'false'}\n\n# Run workflow locally on 1 CPU\nmain_workflow.run(plugin='MultiProc', plugin_args={'n_procs': NJOBS})"
      ]
    },
    {
      "cell_type": "markdown",
      "metadata": {},
      "source": [
        "The output is the source reconstruction matrix stored in the workflow\ndirectory defined by `base_dir`. This matrix can be used as input of\nthe Connectivity pipeline.\n\n<div class=\"alert alert-danger\"><h4>Warning</h4><p>To use this pipeline, we need a cortical segmentation of MRI\n  data, that could be provided by Freesurfer</p></div>\n\n"
      ]
    },
    {
      "cell_type": "code",
      "execution_count": null,
      "metadata": {
        "collapsed": false
      },
      "outputs": [],
      "source": [
        "import pickle  # noqa\nfrom ephypype.gather import get_results  # noqa\nfrom visbrain.objects import BrainObj, ColorbarObj, SceneObj  # noqa\n\ntime_series_files, label_files = get_results(main_workflow.base_dir,\n                                             main_workflow.name,\n                                             pipeline='inverse')\n\ntime_pts = 30\n\nsc = SceneObj(size=(800, 500), bgcolor=(0, 0, 0))\nlh_file = op.join(subjects_dir, 'fsaverage', 'label/lh.aparc.annot')\nrh_file = op.join(subjects_dir, 'fsaverage', 'label/rh.aparc.annot')\ncmap = 'bwr'\ntxtcolor = 'white'\nfor inverse_file, label_file in zip(time_series_files, label_files):\n    # Load files :\n    with open(label_file, 'rb') as f:\n        ar = pickle.load(f)\n        names, xyz, colors = ar['ROI_names'], ar['ROI_coords'], ar['ROI_colors']  # noqa\n    ts = np.squeeze(np.load(inverse_file))\n    cen = np.array([k.mean(0) for k in xyz])\n\n    # Get the data of the left / right hemisphere :\n    lh_data, rh_data = ts[::2, time_pts], ts[1::2, time_pts]\n    clim = (ts[:, time_pts].min(), ts[:, time_pts].max())\n    roi_names = [k[0:-3] for k in np.array(names)[::2]]\n\n    # Left hemisphere outside :\n    b_obj_li = BrainObj('white', translucent=False, hemisphere='left')\n    b_obj_li.parcellize(lh_file, select=roi_names, data=lh_data, cmap=cmap)\n    sc.add_to_subplot(b_obj_li, rotate='left')\n\n    # Left hemisphere inside :\n    b_obj_lo = BrainObj('white',  translucent=False, hemisphere='left')\n    b_obj_lo.parcellize(lh_file, select=roi_names, data=lh_data, cmap=cmap)\n    sc.add_to_subplot(b_obj_lo, col=1, rotate='right')\n\n    # Right hemisphere outside :\n    b_obj_ro = BrainObj('white',  translucent=False, hemisphere='right')\n    b_obj_ro.parcellize(rh_file, select=roi_names, data=rh_data, cmap=cmap)\n    sc.add_to_subplot(b_obj_ro, row=1, rotate='right')\n\n    # Right hemisphere inside :\n    b_obj_ri = BrainObj('white',  translucent=False, hemisphere='right')\n    b_obj_ri.parcellize(rh_file, select=roi_names, data=rh_data, cmap=cmap)\n    sc.add_to_subplot(b_obj_ri, row=1, col=1, rotate='left')\n\n    # Add the colorbar :\n    cbar = ColorbarObj(b_obj_li, txtsz=15, cbtxtsz=20, txtcolor=txtcolor,\n                       cblabel='Intensity')\n    sc.add_to_subplot(cbar, col=2, row_span=2)\n\nsc.preview()"
      ]
    }
  ],
  "metadata": {
    "kernelspec": {
      "display_name": "Python 3",
      "language": "python",
      "name": "python3"
    },
    "language_info": {
      "codemirror_mode": {
        "name": "ipython",
        "version": 3
      },
      "file_extension": ".py",
      "mimetype": "text/x-python",
      "name": "python",
      "nbconvert_exporter": "python",
      "pygments_lexer": "ipython3",
      "version": "3.7.11"
    }
  },
  "nbformat": 4,
  "nbformat_minor": 0
}