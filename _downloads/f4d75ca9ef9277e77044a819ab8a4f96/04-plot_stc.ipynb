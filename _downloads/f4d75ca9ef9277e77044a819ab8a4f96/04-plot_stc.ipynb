{
  "cells": [
    {
      "cell_type": "code",
      "execution_count": null,
      "metadata": {
        "collapsed": false
      },
      "outputs": [],
      "source": [
        "%matplotlib inline"
      ]
    },
    {
      "cell_type": "markdown",
      "metadata": {},
      "source": [
        "\n\n# 04. Plot contrast\n\nGroup average of dSPM solutions obtained by `plot_events_inverse` for the\ncontrast between both types of faces together and scrambled at 170 ms\npoststimulus. The image was produced by subtracting normalized solutions of\nfaces to the ones of scrambled.\n"
      ]
    },
    {
      "cell_type": "code",
      "execution_count": null,
      "metadata": {
        "collapsed": false
      },
      "outputs": [],
      "source": [
        "import os\nimport json\nimport pprint\nimport os.path as op\nimport numpy as np\nfrom mayavi import mlab\nimport mne\n\n\n# Read experiment params as json\nparams = json.load(open(\"params.json\"))\npprint.pprint({'parameters': params})\n\ndata_type = params[\"general\"][\"data_type\"]\nsubject_ids = params[\"general\"][\"subject_ids\"]\nNJOBS = params[\"general\"][\"NJOBS\"]\nsession_ids = params[\"general\"][\"session_ids\"]\nconditions = params[\"general\"][\"conditions\"]\n\nif \"data_path\" in params[\"general\"].keys():\n    data_path = params[\"general\"][\"data_path\"]\nelse:\n    data_path = op.expanduser(\"~\")\nprint(\"data_path : %s\" % data_path)\n\nsubjects_dir = op.join(data_path, params[\"general\"][\"subjects_dir\"])\n\n# TODO: if you ran 02 and 03 separately set this path\nmorph_stc_path = \\\n    op.join(data_path, 'source_dsamp_full_reconstruction_dSPM_aparc',\n            '_subject_id_{sbj}', 'morph_stc')\n'''\n# if you ran 02-03 together set this path\nmorph_stc_path = \\\n    op.join(data_path, 'preprocessing_full_inverse/full_inv_pipeline',\n            '_subject_id_{sbj}', 'morph_stc')\n'''\n\n# os.environ['ETS_TOOLKIT'] = 'qt4'\nos.environ['QT_API'] = 'pyqt5'\n\nfig_path = op.join(data_path, 'figures')\nif not os.path.isdir(fig_path):\n    os.mkdir(fig_path)\n# PLot\nstc_condition = list()\nfor cond in conditions:\n    stcs = list()\n\n    for subject in subject_ids:\n\n        out_path = morph_stc_path.format(sbj=subject)\n        stc = mne.read_source_estimate(\n            op.join(out_path, 'mne_dSPM_inverse_morph-%s' % (cond)))\n        stcs.append(stc)\n\n    data = np.average([np.abs(s.data) for s in stcs], axis=0)\n    stc = mne.SourceEstimate(data, stcs[0].vertices,\n                             stcs[0].tmin, stcs[0].tstep, 'fsaverage')\n    del stcs\n    stc_condition.append(stc)\n\ndata = stc_condition[0].data / np.max(stc_condition[0].data) + \\\n    stc_condition[2].data / np.max(stc_condition[2].data) - \\\n    stc_condition[1].data / np.max(stc_condition[1].data)\ndata = np.abs(data)\nstc_contrast = mne.SourceEstimate(\n    data, stc_condition[0].vertices, stc_condition[0].tmin,\n    stc_condition[0].tstep, 'fsaverage')\n# stc_contrast.save(op.join(fig_path, 'stc_dspm_difference_norm'))\n\nlims = (0.25, 0.75, 1)\nclim = dict(kind='value', lims=lims)\n# TODO use auto with py39\nbrain_dspm = stc_contrast.plot(\n    views=['ven'], hemi='both', subject='fsaverage', subjects_dir=subjects_dir,\n    initial_time=0.17, time_unit='s', background='w',\n    clim=clim, foreground='k', backend='mayavi')\n\nmlab.view(90, 180, roll=180, focalpoint=(0., 15., 0.), distance=500)\nbrain_dspm.save_image(op.join(fig_path, 'dspm-contrast'))"
      ]
    }
  ],
  "metadata": {
    "kernelspec": {
      "display_name": "Python 3",
      "language": "python",
      "name": "python3"
    },
    "language_info": {
      "codemirror_mode": {
        "name": "ipython",
        "version": 3
      },
      "file_extension": ".py",
      "mimetype": "text/x-python",
      "name": "python",
      "nbconvert_exporter": "python",
      "pygments_lexer": "ipython3",
      "version": "3.7.11"
    }
  },
  "nbformat": 4,
  "nbformat_minor": 0
}