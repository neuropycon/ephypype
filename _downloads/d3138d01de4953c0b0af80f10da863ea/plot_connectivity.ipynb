{
  "cells": [
    {
      "cell_type": "code",
      "execution_count": null,
      "metadata": {
        "collapsed": false
      },
      "outputs": [],
      "source": [
        "%matplotlib inline"
      ]
    },
    {
      "cell_type": "markdown",
      "metadata": {},
      "source": [
        "\n\n# Compute connectivity on sensor space\nThe connectivity pipeline performs connectivity analysis in\nsensor or source space.\n\nThe **input** data should be a time series matrix in **npy** or **mat** format.\n"
      ]
    },
    {
      "cell_type": "code",
      "execution_count": null,
      "metadata": {
        "collapsed": false
      },
      "outputs": [],
      "source": [
        "# Authors: Annalisa Pascarella <a.pascarella@iac.cnr.it>\n# License: BSD (3-clause)\n\n# sphinx_gallery_thumbnail_number = 2\n\nimport os.path as op\nimport numpy as np\nimport nipype.pipeline.engine as pe\n\nimport ephypype\nfrom ephypype.nodes import create_iterator, create_datagrabber\nfrom ephypype.nodes import get_frequency_band\nfrom ephypype.datasets import fetch_omega_dataset"
      ]
    },
    {
      "cell_type": "markdown",
      "metadata": {},
      "source": [
        "Let us fetch the data first. It is around 675 MB download.\n\n"
      ]
    },
    {
      "cell_type": "code",
      "execution_count": null,
      "metadata": {
        "collapsed": false
      },
      "outputs": [],
      "source": [
        "base_path = op.join(op.dirname(ephypype.__file__), '..', 'examples')\ndata_path = fetch_omega_dataset(base_path)"
      ]
    },
    {
      "cell_type": "markdown",
      "metadata": {},
      "source": [
        "then read the parameters for experiment and connectivity from a\n:download:`json <https://github.com/neuropycon/ephypype/tree/master/examples/params.json>`\nfile and print it\n\n"
      ]
    },
    {
      "cell_type": "code",
      "execution_count": null,
      "metadata": {
        "collapsed": false
      },
      "outputs": [],
      "source": [
        "import json  # noqa\nimport pprint  # noqa\nparams = json.load(open(\"params.json\"))\n\npprint.pprint({'experiment parameters': params[\"general\"]})\nsubject_ids = params[\"general\"][\"subject_ids\"]  # sub-003\nsession_ids = params[\"general\"][\"session_ids\"]  # ses-0001\nNJOBS = params[\"general\"][\"NJOBS\"]\n\npprint.pprint({'connectivity parameters': params[\"connectivity\"]})\nfreq_band_names = params[\"connectivity\"]['freq_band_names']\nfreq_bands = params[\"connectivity\"]['freq_bands']\ncon_method = params[\"connectivity\"]['method']\nepoch_window_length = params[\"connectivity\"]['epoch_window_length']"
      ]
    },
    {
      "cell_type": "markdown",
      "metadata": {},
      "source": [
        "Then, we create our workflow and specify the `base_dir` which tells\nnipype the directory in which to store the outputs.\n\n"
      ]
    },
    {
      "cell_type": "code",
      "execution_count": null,
      "metadata": {
        "collapsed": false
      },
      "outputs": [],
      "source": [
        "# workflow directory within the `base_dir`\ncorrel_analysis_name = 'spectral_connectivity_' + con_method\n\nmain_workflow = pe.Workflow(name=correl_analysis_name)\nmain_workflow.base_dir = data_path"
      ]
    },
    {
      "cell_type": "markdown",
      "metadata": {},
      "source": [
        "Then we create a node to pass input filenames to DataGrabber from nipype\n\n"
      ]
    },
    {
      "cell_type": "code",
      "execution_count": null,
      "metadata": {
        "collapsed": false
      },
      "outputs": [],
      "source": [
        "infosource = create_iterator(['subject_id', 'session_id', 'freq_band_name'],\n                             [subject_ids, session_ids, freq_band_names])"
      ]
    },
    {
      "cell_type": "markdown",
      "metadata": {},
      "source": [
        "and a node to grab data. The template_args in this node iterate upon\nthe values in the infosource node\n\n"
      ]
    },
    {
      "cell_type": "code",
      "execution_count": null,
      "metadata": {
        "collapsed": false
      },
      "outputs": [],
      "source": [
        "template_path = '*%s/%s/meg/%s*rest*0_60*ica.fif'\ntemplate_args = [['subject_id', 'session_id', 'subject_id']]\ndatasource = create_datagrabber(data_path, template_path, template_args)"
      ]
    },
    {
      "cell_type": "markdown",
      "metadata": {},
      "source": [
        "Ephypype creates for us a pipeline which can be connected to these\nnodes we created. The connectivity pipeline is implemented by the function\n:func:`ephypype.pipelines.ts_to_conmat.create_pipeline_time_series_to_spectral_connectivity`,\nthus to instantiate this connectivity pipeline node, we import it and pass\nour parameters to it.\nThe connectivity pipeline contains two nodes and is based on the MNE Python\nfunctions computing frequency- and time-frequency-domain connectivity\nmeasures. A list of the different connectivity measures implemented by MNE\ncan be found in the description of :func:`mne.viz.plot_connectivity_circle`\n\nIn particular, the two nodes are:\n\n* :class:`ephypype.interfaces.mne.spectral.SpectralConn` computes spectral connectivity in a given frequency bands\n* :class:`ephypype.interfaces.mne.spectral.PlotSpectralConn` plot connectivity matrix using the |plot_connectivity_circle| function\n\n.. |plot_connectivity_circle| raw:: html\n\n  <a href=\"http://martinos.org/mne/stable/generated/mne.viz.plot_connectivity_circle.html#mne.viz.plot_connectivity_circle\" target=\"_blank\">spectral_connectivity function</a>\n\n"
      ]
    },
    {
      "cell_type": "code",
      "execution_count": null,
      "metadata": {
        "collapsed": false
      },
      "outputs": [],
      "source": [
        "from ephypype.pipelines import create_pipeline_time_series_to_spectral_connectivity # noqa\nspectral_workflow = create_pipeline_time_series_to_spectral_connectivity(\n    data_path, con_method=con_method,\n    epoch_window_length=epoch_window_length)"
      ]
    },
    {
      "cell_type": "markdown",
      "metadata": {},
      "source": [
        "The connectivity node needs two auxiliary nodes: one node reads the raw data\nfile in .fif format and extract the data and the channel information; the\nother node get information on the frequency band we are interested on.\n\n"
      ]
    },
    {
      "cell_type": "code",
      "execution_count": null,
      "metadata": {
        "collapsed": false
      },
      "outputs": [],
      "source": [
        "from ephypype.nodes.import_data import Fif2Array  # noqa\ncreate_array_node = pe.Node(interface=Fif2Array(), name='Fif2Array')\n\nfrequency_node = get_frequency_band(freq_band_names, freq_bands)"
      ]
    },
    {
      "cell_type": "markdown",
      "metadata": {},
      "source": [
        "We then connect the nodes two at a time. First, we connect two outputs\n(subject_id and session_id) of the infosource node to the datasource node.\nSo, these two nodes taken together can grab data.\nThe third output of infosource (freq_band_name) is connected to the\nfrequency node\n\n"
      ]
    },
    {
      "cell_type": "code",
      "execution_count": null,
      "metadata": {
        "collapsed": false
      },
      "outputs": [],
      "source": [
        "main_workflow.connect(infosource, 'subject_id', datasource, 'subject_id')\nmain_workflow.connect(infosource, 'session_id', datasource, 'session_id')\n\nmain_workflow.connect(infosource, 'freq_band_name',\n                      frequency_node, 'freq_band_name')"
      ]
    },
    {
      "cell_type": "markdown",
      "metadata": {},
      "source": [
        "Similarly, for the inputnode of create_array_node and spectral_workflow.\nThings will become clearer in a moment when we plot the graph of the workflow\n\n"
      ]
    },
    {
      "cell_type": "code",
      "execution_count": null,
      "metadata": {
        "collapsed": false
      },
      "outputs": [],
      "source": [
        "main_workflow.connect(datasource, 'raw_file',\n                      create_array_node, 'fif_file')\nmain_workflow.connect(create_array_node, 'array_file',\n                      spectral_workflow, 'inputnode.ts_file')\nmain_workflow.connect(create_array_node, 'channel_names_file',\n                      spectral_workflow, 'inputnode.labels_file')\nmain_workflow.connect(frequency_node, 'freq_bands',\n                      spectral_workflow, 'inputnode.freq_band')\nmain_workflow.connect(create_array_node, 'sfreq',\n                      spectral_workflow, 'inputnode.sfreq')"
      ]
    },
    {
      "cell_type": "markdown",
      "metadata": {},
      "source": [
        "To do so, we first write the workflow graph (optional)\n\n"
      ]
    },
    {
      "cell_type": "code",
      "execution_count": null,
      "metadata": {
        "collapsed": false
      },
      "outputs": [],
      "source": [
        "main_workflow.write_graph(graph2use='colored')  # colored"
      ]
    },
    {
      "cell_type": "markdown",
      "metadata": {},
      "source": [
        "and visualize it. Take a moment to pause and notice how the connections\nhere correspond to how we connected the nodes.\n\n"
      ]
    },
    {
      "cell_type": "code",
      "execution_count": null,
      "metadata": {
        "collapsed": false
      },
      "outputs": [],
      "source": [
        "import matplotlib.pyplot as plt  # noqa\nimg = plt.imread(op.join(data_path, correl_analysis_name, 'graph.png'))\nplt.figure(figsize=(8, 8))\nplt.imshow(img)\nplt.axis('off')"
      ]
    },
    {
      "cell_type": "markdown",
      "metadata": {},
      "source": [
        "Finally, we are now ready to execute our workflow.\n\n"
      ]
    },
    {
      "cell_type": "code",
      "execution_count": null,
      "metadata": {
        "collapsed": false
      },
      "outputs": [],
      "source": [
        "main_workflow.config['execution'] = {'remove_unnecessary_outputs': 'false'}\n\n# Run workflow locally on 1 CPU\nmain_workflow.run(plugin='MultiProc', plugin_args={'n_procs': NJOBS})"
      ]
    },
    {
      "cell_type": "markdown",
      "metadata": {},
      "source": [
        "The output is the **spectral connectivty matrix in .npy format** stored\nin the workflow directory defined by `base_dir`.\nWe can use the pipelines defined in |graphpype| package\nto perform graph analysis on the computed connectivity matrix.\n\n.. |graphpype| raw:: html\n\n  <a href=\"https://github.com/neuropycon/graphpype\" target=\"_blank\">graphpype</a>\n\n"
      ]
    },
    {
      "cell_type": "code",
      "execution_count": null,
      "metadata": {
        "collapsed": false
      },
      "outputs": [],
      "source": [
        "from ephypype.gather import get_results  # noqa\nfrom ephypype.gather import get_channel_files  # noqa\nfrom ephypype.aux_tools import _parse_string  # noqa\nfrom visbrain.objects import ConnectObj, SourceObj, SceneObj, ColorbarObj  # noqa\n\nthresh = .75\nwith_text = False\n\nchannel_coo_files, channel_name_files = get_channel_files(\n        main_workflow.base_dir, main_workflow.name)\n\nconnectivity_matrices, _ = get_results(\n        main_workflow.base_dir, main_workflow.name, pipeline='connectivity')\n\nsc = SceneObj(size=(1000, 1000), bgcolor=(.1, .1, .1))\nfor nf, (connect_file, channel_coo_file, channel_name_file) in \\\n        enumerate(zip(connectivity_matrices, channel_coo_files,\n                      channel_name_files)):\n\n    # Load files :\n    xyz = np.genfromtxt(channel_coo_file, dtype=float)\n    names = np.genfromtxt(channel_name_file, dtype=str)\n    connect = np.load(connect_file)\n    connect += connect.T\n    connect = np.ma.masked_array(connect, mask=connect < thresh)\n    names = names if with_text else None\n    radius = connect.sum(1)\n    clim = (thresh, connect.max())\n\n    # With text :\n    c_obj = ConnectObj('c', xyz, connect,\n                       color_by='count',\n                       clim=clim, dynamic=(0., 1.),\n                       dynamic_order=3, antialias=True, cmap='inferno',\n                       line_width=4.)\n    s_obj = SourceObj('s', xyz, data=radius, radius_min=5, radius_max=15,\n                      text=names, text_size=10, text_color='white',\n                      text_translate=(0., 0., 0.))\n    s_obj.color_sources(data=radius, cmap='inferno')\n    cbar = ColorbarObj(c_obj, txtcolor='white', txtsz=15,\n                       cblabel='Connectivity', cbtxtsz=20)\n    band = _parse_string(connect_file, freq_band_names)\n    title = 'Connectivity on {} band'.format(band)\n    sc.add_to_subplot(c_obj, title=title, title_size=14, title_bold=True,\n                      title_color='white', row=nf)\n    sc.add_to_subplot(s_obj, rotate='top', zoom=.5, use_this_cam=True, row=nf)\n    sc.add_to_subplot(cbar, col=1, width_max=200, row=nf)\n\nsc.preview()"
      ]
    }
  ],
  "metadata": {
    "kernelspec": {
      "display_name": "Python 3",
      "language": "python",
      "name": "python3"
    },
    "language_info": {
      "codemirror_mode": {
        "name": "ipython",
        "version": 3
      },
      "file_extension": ".py",
      "mimetype": "text/x-python",
      "name": "python",
      "nbconvert_exporter": "python",
      "pygments_lexer": "ipython3",
      "version": "3.7.11"
    }
  },
  "nbformat": 4,
  "nbformat_minor": 0
}