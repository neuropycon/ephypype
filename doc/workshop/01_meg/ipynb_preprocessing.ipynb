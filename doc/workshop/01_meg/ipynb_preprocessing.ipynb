{
 "cells": [
  {
   "cell_type": "code",
   "execution_count": 1,
   "metadata": {},
   "outputs": [],
   "source": [
    "%matplotlib qt5\n",
    "# %matplotlib inline\n",
    "import warnings\n",
    "warnings.filterwarnings('ignore')"
   ]
  },
  {
   "cell_type": "code",
   "execution_count": 2,
   "metadata": {},
   "outputs": [
    {
     "name": "stdout",
     "output_type": "stream",
     "text": [
      "{'experiment parameters': {'NJOBS': 1,\n",
      "                           'data_path': '/home/pasca/Science/workshop/PracticalMEEG/ds000117/derivatives/meg_derivatives',\n",
      "                           'data_type': 'fif',\n",
      "                           'session_ids': ['01', '02'],\n",
      "                           'short': False,\n",
      "                           'subject_ids': ['sub-01'],\n",
      "                           'subjects_dir': '/home/pasca/Science/workshop/PracticalMEEG/ds000117/FSF'}}\n"
     ]
    }
   ],
   "source": [
    "from ipywidgets import widgets\n",
    "from IPython.display import display, clear_output, Javascript\n",
    "import mne\n",
    "from mne.io import read_raw_fif\n",
    "from mne.preprocessing import read_ica\n",
    "from mne.preprocessing import create_ecg_epochs, create_eog_epochs\n",
    "import numpy as np\n",
    "import getpass\n",
    "import os\n",
    "# nbconvert related imports\n",
    "warnings.filterwarnings('ignore')\n",
    "import matplotlib.pyplot as plt\n",
    "\n",
    "import json  # noqa\n",
    "import pprint  # noqa\n",
    "params = json.load(open(\"params.json\"))\n",
    "\n",
    "pprint.pprint({'experiment parameters': params[\"general\"]})\n",
    "subject_ids = params[\"general\"][\"subject_ids\"]  \n",
    "session_ids = params[\"general\"][\"session_ids\"] \n",
    "main_path = params[\"general\"][\"data_path\"] "
   ]
  },
  {
   "cell_type": "markdown",
   "metadata": {},
   "source": [
    "## Choose subject ID:"
   ]
  },
  {
   "cell_type": "code",
   "execution_count": 3,
   "metadata": {},
   "outputs": [
    {
     "data": {
      "application/vnd.jupyter.widget-view+json": {
       "model_id": "b13f11061a0b4e31a44b12139e35701a",
       "version_major": 2,
       "version_minor": 0
      },
      "text/plain": [
       "Select(description='Subject ID:', options=('sub-01',), value='sub-01')"
      ]
     },
     "metadata": {},
     "output_type": "display_data"
    },
    {
     "data": {
      "application/vnd.jupyter.widget-view+json": {
       "model_id": "85eac7c0613b4d0db7cae89b8fe6a901",
       "version_major": 2,
       "version_minor": 0
      },
      "text/plain": [
       "RadioButtons(description='Condition:', options=('01', '02'), value='01')"
      ]
     },
     "metadata": {},
     "output_type": "display_data"
    }
   ],
   "source": [
    "name_sel = widgets.Select(\n",
    "    description='Subject ID:',\n",
    "    options=subject_ids\n",
    ")\n",
    "display(name_sel)\n",
    "\n",
    "cond_sel = widgets.RadioButtons(\n",
    "    description='Condition:',\n",
    "    options=session_ids,\n",
    ")\n",
    "display(cond_sel)"
   ]
  },
  {
   "cell_type": "code",
   "execution_count": 4,
   "metadata": {},
   "outputs": [],
   "source": [
    "%%capture\n",
    "if cond_sel.value == session_ids[0]:\n",
    "    session = session_ids[0]\n",
    "elif cond_sel.value == session_ids[1]:\n",
    "    session = session_ids[1]\n",
    "subj_ID = name_sel.value"
   ]
  },
  {
   "cell_type": "code",
   "execution_count": 5,
   "metadata": {},
   "outputs": [],
   "source": [
    "preproc_workflow_name = 'preprocessing_dsamp_workflow'\n",
    "preproc_pipeline_name = 'preproc_meg_dsamp_pipeline'"
   ]
  },
  {
   "cell_type": "code",
   "execution_count": 6,
   "metadata": {},
   "outputs": [
    {
     "name": "stdout",
     "output_type": "stream",
     "text": [
      "*** sbj ID ->  sub-01 ***\n",
      "*** session -> 02 ***\n"
     ]
    }
   ],
   "source": [
    "print('*** sbj ID ->  {} ***'.format(subj_ID))\n",
    "print('*** session -> {} ***'.format(session))"
   ]
  },
  {
   "cell_type": "code",
   "execution_count": 7,
   "metadata": {},
   "outputs": [],
   "source": [
    "# define file names\n",
    "pipeline_path = os.path.join(main_path, preproc_workflow_name)\n",
    "sbj_data_path = os.path.join(main_path, subj_ID)\n",
    "\n",
    "basename = subj_ID + '_ses-meg_task-facerecognition_run-' + session + '_proc-sss_meg_filt_dsamp'\n",
    "results_folder = os.path.join(preproc_pipeline_name, '_session_id_' + session + '_subject_id_' + subj_ID)\n",
    "\n",
    "raw_fname = basename + '.fif'\n",
    "ica_fname = basename + '_ica.fif'\n",
    "ica_TS_fname = basename + '_ica-tseries.fif'\n",
    "report_fname = basename + '-report.html'\n",
    "ica_solution_fname = basename + '_ica_solution.fif'\n",
    "\n",
    "raw_file = os.path.join(pipeline_path, results_folder, 'preproc', raw_fname)  # filtered data\n",
    "raw_ica_file = os.path.join(pipeline_path, results_folder, 'ica', ica_fname)  # cleaned data by MNE\n",
    "ica_TS_file = os.path.join(pipeline_path, results_folder, 'ica', ica_TS_fname)\n",
    "ica_solution_file = os.path.join(pipeline_path, results_folder, 'ica', ica_solution_fname)\n",
    "report_file = os.path.join(pipeline_path, results_folder, 'ica', report_fname)\n"
   ]
  },
  {
   "cell_type": "markdown",
   "metadata": {},
   "source": [
    "# Load data"
   ]
  },
  {
   "cell_type": "code",
   "execution_count": 8,
   "metadata": {
    "scrolled": true
   },
   "outputs": [
    {
     "name": "stdout",
     "output_type": "stream",
     "text": [
      "Load raw file -> /home/pasca/Science/workshop/PracticalMEEG/ds000117/derivatives/meg_derivatives/preprocessing_dsamp_workflow/preproc_meg_dsamp_pipeline/_session_id_02_subject_id_sub-01/preproc/sub-01_ses-meg_task-facerecognition_run-02_proc-sss_meg_filt_dsamp.fif \n",
      "\n",
      "\n",
      "Opening raw data file /home/pasca/Science/workshop/PracticalMEEG/ds000117/derivatives/meg_derivatives/preprocessing_dsamp_workflow/preproc_meg_dsamp_pipeline/_session_id_02_subject_id_sub-01/preproc/sub-01_ses-meg_task-facerecognition_run-02_proc-sss_meg_filt_dsamp.fif...\n",
      "    Range : 18600 ... 108599 =     62.000 ...   361.997 secs\n",
      "Ready.\n",
      "Reading 0 ... 89999  =      0.000 ...   299.997 secs...\n",
      "Reading /home/pasca/Science/workshop/PracticalMEEG/ds000117/derivatives/meg_derivatives/preprocessing_dsamp_workflow/preproc_meg_dsamp_pipeline/_session_id_02_subject_id_sub-01/ica/sub-01_ses-meg_task-facerecognition_run-02_proc-sss_meg_filt_dsamp_ica_solution.fif ...\n",
      "Now restoring ICA solution ...\n",
      "Ready.\n"
     ]
    }
   ],
   "source": [
    "# print('Load raw file -> {}'.format(raw_ica_file))\n",
    "# raw = read_raw_fif(raw_ica_file, preload=True)\n",
    "print('Load raw file -> {} \\n\\n'.format(raw_file))\n",
    "raw = read_raw_fif(raw_file, preload=True)\n",
    "ica = read_ica(ica_solution_file)\n",
    "ica.labels_ = dict()\n",
    "ica_TS = ica.get_sources(raw)"
   ]
  },
  {
   "cell_type": "markdown",
   "metadata": {},
   "source": [
    "## Cell below opens an html report in a web-browser"
   ]
  },
  {
   "cell_type": "code",
   "execution_count": 24,
   "metadata": {},
   "outputs": [],
   "source": [
    "%%bash -s \"$report_file\"\n",
    "firefox -new-window $1"
   ]
  },
  {
   "cell_type": "code",
   "execution_count": 9,
   "metadata": {},
   "outputs": [
    {
     "name": "stdout",
     "output_type": "stream",
     "text": [
      "<Info | 23 non-empty values\n",
      " acq_pars: ACQch001 110113 ACQch002 110112 ACQch003 110111 ACQch004 110122 ...\n",
      " bads: []\n",
      " ch_names: MEG0113, MEG0112, MEG0111, MEG0122, MEG0123, MEG0121, MEG0132, ...\n",
      " chs: 204 Gradiometers, 102 Magnetometers, 74 EEG, 3 Stimulus, 12 misc, 9 CHPI\n",
      " custom_ref_applied: False\n",
      " description: (meg) Vectorview system at Cambridge\n",
      " dev_head_t: MEG device -> head transform\n",
      " dig: 137 items (3 Cardinal, 5 HPI, 75 EEG, 54 Extra)\n",
      " events: 1 item (list)\n",
      " experimenter: MEG\n",
      " file_id: 4 items (dict)\n",
      " highpass: 0.1 Hz\n",
      " hpi_meas: 1 item (list)\n",
      " hpi_results: 1 item (list)\n",
      " hpi_subsystem: 2 items (dict)\n",
      " line_freq: 50.0\n",
      " lowpass: 40.0 Hz\n",
      " meas_date: 1941-03-22 11:17:17 UTC\n",
      " meas_id: 4 items (dict)\n",
      " nchan: 404\n",
      " proc_history: 1 item (list)\n",
      " proj_id: 1 item (ndarray)\n",
      " proj_name: dgw_studies\n",
      " projs: []\n",
      " sfreq: 300.0 Hz\n",
      " subject_info: 2 items (dict)\n",
      ">\n"
     ]
    }
   ],
   "source": [
    "ica.exclude\n",
    "print(raw.info)"
   ]
  },
  {
   "cell_type": "code",
   "execution_count": 10,
   "metadata": {
    "scrolled": true
   },
   "outputs": [
    {
     "name": "stdout",
     "output_type": "stream",
     "text": [
      "Creating RawArray with float64 data, n_channels=68, n_times=90000\n",
      "    Range : 18600 ... 108599 =     62.000 ...   361.997 secs\n",
      "Ready.\n",
      "Using qt as 2D backend.\n"
     ]
    },
    {
     "data": {
      "text/plain": [
       "<mne_qt_browser._pg_figure.MNEQtBrowser at 0x7f3d1f4ba050>"
      ]
     },
     "execution_count": 10,
     "metadata": {},
     "output_type": "execute_result"
    }
   ],
   "source": [
    "ica.plot_sources(raw)"
   ]
  },
  {
   "cell_type": "code",
   "execution_count": 11,
   "metadata": {},
   "outputs": [
    {
     "data": {
      "text/plain": [
       "[<MNEFigure size 975x967 with 20 Axes>,\n",
       " <MNEFigure size 975x967 with 20 Axes>,\n",
       " <MNEFigure size 975x967 with 20 Axes>,\n",
       " <MNEFigure size 975x496 with 8 Axes>]"
      ]
     },
     "execution_count": 11,
     "metadata": {},
     "output_type": "execute_result"
    },
    {
     "name": "stdout",
     "output_type": "stream",
     "text": [
      "    Using multitaper spectrum estimation with 7 DPSS windows\n",
      "Not setting metadata\n",
      "150 matching events found\n",
      "No baseline correction applied\n",
      "0 projection items activated\n"
     ]
    }
   ],
   "source": [
    "ica.plot_components(inst=raw)"
   ]
  },
  {
   "cell_type": "code",
   "execution_count": 12,
   "metadata": {},
   "outputs": [
    {
     "name": "stdout",
     "output_type": "stream",
     "text": [
      "[19, 26, 21, 20]\n",
      "    Using multitaper spectrum estimation with 7 DPSS windows\n",
      "Not setting metadata\n",
      "150 matching events found\n",
      "No baseline correction applied\n",
      "0 projection items activated\n",
      "Not setting metadata\n",
      "150 matching events found\n",
      "No baseline correction applied\n",
      "0 projection items activated\n",
      "Not setting metadata\n",
      "150 matching events found\n",
      "No baseline correction applied\n",
      "0 projection items activated\n",
      "Not setting metadata\n",
      "150 matching events found\n",
      "No baseline correction applied\n",
      "0 projection items activated\n"
     ]
    }
   ],
   "source": [
    "print(ica.exclude)\n",
    "if ica.exclude:\n",
    "    ica.plot_properties(raw, picks=ica.exclude)"
   ]
  },
  {
   "cell_type": "markdown",
   "metadata": {},
   "source": [
    "## Exclude ICA components"
   ]
  },
  {
   "cell_type": "markdown",
   "metadata": {},
   "source": [
    "To exclude/include an ICA component **click on mne_browse window**: the **red** ones will be excluded. To keep the new excluded ICA components CLOSE the mne_browe window!"
   ]
  },
  {
   "cell_type": "markdown",
   "metadata": {},
   "source": [
    "## Apply ica solution to raw data and save the result\n",
    "\n",
    "Check in the next cells that you are excluding the components you want!!!"
   ]
  },
  {
   "cell_type": "code",
   "execution_count": 18,
   "metadata": {
    "scrolled": true
   },
   "outputs": [
    {
     "name": "stdout",
     "output_type": "stream",
     "text": [
      "You want to exclude the following components: ***  [25, 27, 30] ***\n"
     ]
    }
   ],
   "source": [
    "# ica.exclude = [1]\n",
    "print('You want to exclude the following components: ***  {} ***'.format(ica.exclude))\n",
    "# print(raw.info)\n",
    "# raw.plot()"
   ]
  },
  {
   "cell_type": "code",
   "execution_count": 31,
   "metadata": {},
   "outputs": [],
   "source": [
    "%%capture\n",
    "ica.apply(raw)\n",
    "raw.save(raw_ica_file, overwrite=True)\n",
    "ica.save(ica_solution_file, overwrite=True)"
   ]
  },
  {
   "cell_type": "code",
   "execution_count": 32,
   "metadata": {
    "scrolled": true
   },
   "outputs": [
    {
     "name": "stdout",
     "output_type": "stream",
     "text": [
      "You REMOVED the following components: ***  [24, 14, 29] ***\n",
      "You SAVED the new CLEANED file here: ***  /home/pasca/Science/workshop/PracticalMEEG/ds000117/derivatives/meg_derivatives/preprocessing_dsamp_workflow/preproc_meg_dsamp_pipeline/_session_id_01_subject_id_sub-01/ica/sub-01_ses-meg_task-facerecognition_run-01_proc-sss_meg_filt_dsamp_ica.fif ***\n"
     ]
    }
   ],
   "source": [
    "print('You REMOVED the following components: ***  {} ***'.format(ica.exclude))\n",
    "print('You SAVED the new CLEANED file here: ***  {} ***'.format(raw_ica_file))"
   ]
  },
  {
   "cell_type": "markdown",
   "metadata": {},
   "source": [
    "# From here code to play with the data"
   ]
  },
  {
   "cell_type": "code",
   "execution_count": 33,
   "metadata": {},
   "outputs": [
    {
     "name": "stdout",
     "output_type": "stream",
     "text": [
      "NOTE: plot_psd() is a legacy function. New code should use .compute_psd().plot().\n",
      "Effective window size : 0.853 (s)\n",
      "NOTE: plot_psd() is a legacy function. New code should use .compute_psd().plot().\n",
      "Effective window size : 0.853 (s)\n",
      "    Using multitaper spectrum estimation with 7 DPSS windows\n",
      "Not setting metadata\n",
      "150 matching events found\n",
      "No baseline correction applied\n",
      "0 projection items activated\n"
     ]
    },
    {
     "data": {
      "text/plain": [
       "[<Figure size 700x600 with 6 Axes>]"
      ]
     },
     "execution_count": 33,
     "metadata": {},
     "output_type": "execute_result"
    }
   ],
   "source": [
    "## if you want to check some particular component\n",
    "i = 2\n",
    "for f in [1, 100]:\n",
    "    plt.figure()\n",
    "    ax = plt.axes()\n",
    "    ica_TS.plot_psd(tmax=60, picks=[i], fmax=f, ax=ax, show=False)\n",
    "    ax.set_title('IC #' + str(i))\n",
    "    plt.show()\n",
    "ica.plot_properties(raw, picks=i)\n"
   ]
  },
  {
   "cell_type": "raw",
   "metadata": {},
   "source": []
  }
 ],
 "metadata": {
  "kernelspec": {
   "display_name": "Python 3 (ipykernel)",
   "language": "python",
   "name": "python3"
  },
  "language_info": {
   "codemirror_mode": {
    "name": "ipython",
    "version": 3
   },
   "file_extension": ".py",
   "mimetype": "text/x-python",
   "name": "python",
   "nbconvert_exporter": "python",
   "pygments_lexer": "ipython3",
   "version": "3.10.8"
  }
 },
 "nbformat": 4,
 "nbformat_minor": 1
}
